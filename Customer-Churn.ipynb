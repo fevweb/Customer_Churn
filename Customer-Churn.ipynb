{
 "cells": [
  {
   "cell_type": "code",
   "execution_count": 2,
   "id": "0c165740",
   "metadata": {},
   "outputs": [
    {
     "data": {
      "text/plain": [
       "<bound method NDFrame.head of       RowNumber  CustomerId    Surname  CreditScore Geography  Gender  Age  \\\n",
       "0             1    15634602   Hargrave          619    France  Female   42   \n",
       "1             2    15647311       Hill          608     Spain  Female   41   \n",
       "2             3    15619304       Onio          502    France  Female   42   \n",
       "3             4    15701354       Boni          699    France  Female   39   \n",
       "4             5    15737888   Mitchell          850     Spain  Female   43   \n",
       "...         ...         ...        ...          ...       ...     ...  ...   \n",
       "9995       9996    15606229   Obijiaku          771    France    Male   39   \n",
       "9996       9997    15569892  Johnstone          516    France    Male   35   \n",
       "9997       9998    15584532        Liu          709    France  Female   36   \n",
       "9998       9999    15682355  Sabbatini          772   Germany    Male   42   \n",
       "9999      10000    15628319     Walker          792    France  Female   28   \n",
       "\n",
       "      Tenure    Balance  NumOfProducts  HasCrCard  IsActiveMember  \\\n",
       "0          2       0.00              1          1               1   \n",
       "1          1   83807.86              1          0               1   \n",
       "2          8  159660.80              3          1               0   \n",
       "3          1       0.00              2          0               0   \n",
       "4          2  125510.82              1          1               1   \n",
       "...      ...        ...            ...        ...             ...   \n",
       "9995       5       0.00              2          1               0   \n",
       "9996      10   57369.61              1          1               1   \n",
       "9997       7       0.00              1          0               1   \n",
       "9998       3   75075.31              2          1               0   \n",
       "9999       4  130142.79              1          1               0   \n",
       "\n",
       "      EstimatedSalary  Exited  Complain  Satisfaction Score Card Type  \\\n",
       "0           101348.88       1         1                   2   DIAMOND   \n",
       "1           112542.58       0         1                   3   DIAMOND   \n",
       "2           113931.57       1         1                   3   DIAMOND   \n",
       "3            93826.63       0         0                   5      GOLD   \n",
       "4            79084.10       0         0                   5      GOLD   \n",
       "...               ...     ...       ...                 ...       ...   \n",
       "9995         96270.64       0         0                   1   DIAMOND   \n",
       "9996        101699.77       0         0                   5  PLATINUM   \n",
       "9997         42085.58       1         1                   3    SILVER   \n",
       "9998         92888.52       1         1                   2      GOLD   \n",
       "9999         38190.78       0         0                   3   DIAMOND   \n",
       "\n",
       "      Point Earned  \n",
       "0              464  \n",
       "1              456  \n",
       "2              377  \n",
       "3              350  \n",
       "4              425  \n",
       "...            ...  \n",
       "9995           300  \n",
       "9996           771  \n",
       "9997           564  \n",
       "9998           339  \n",
       "9999           911  \n",
       "\n",
       "[10000 rows x 18 columns]>"
      ]
     },
     "execution_count": 2,
     "metadata": {},
     "output_type": "execute_result"
    }
   ],
   "source": [
    "import pandas as pd\n",
    "\n",
    "df = pd.read_csv('Customer-Churn-Records.csv')\n",
    "df.head"
   ]
  }
 ],
 "metadata": {
  "kernelspec": {
   "display_name": "Python 3",
   "language": "python",
   "name": "python3"
  },
  "language_info": {
   "codemirror_mode": {
    "name": "ipython",
    "version": 3
   },
   "file_extension": ".py",
   "mimetype": "text/x-python",
   "name": "python",
   "nbconvert_exporter": "python",
   "pygments_lexer": "ipython3",
   "version": "3.10.0"
  }
 },
 "nbformat": 4,
 "nbformat_minor": 5
}
